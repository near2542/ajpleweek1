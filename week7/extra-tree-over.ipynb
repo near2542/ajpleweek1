{
 "cells": [
  {
   "cell_type": "code",
   "execution_count": 1,
   "metadata": {
    "_cell_guid": "b1076dfc-b9ad-4769-8c92-a6c4dae69d19",
    "_uuid": "8f2839f25d086af736a60e9eeb907d3b93b6e0e5",
    "execution": {
     "iopub.execute_input": "2020-09-19T10:13:10.491620Z",
     "iopub.status.busy": "2020-09-19T10:13:10.490736Z",
     "iopub.status.idle": "2020-09-19T10:13:10.494433Z",
     "shell.execute_reply": "2020-09-19T10:13:10.493677Z"
    },
    "papermill": {
     "duration": 0.016098,
     "end_time": "2020-09-19T10:13:10.494557",
     "exception": false,
     "start_time": "2020-09-19T10:13:10.478459",
     "status": "completed"
    },
    "tags": []
   },
   "outputs": [],
   "source": [
    "# This Python 3 environment comes with many helpful analytics libraries installed\n",
    "# It is defined by the kaggle/python Docker image: https://github.com/kaggle/docker-python\n",
    "# For example, here's several helpful packages to load\n",
    "\n",
    "import numpy as np # linear algebra\n",
    "import pandas as pd # data processing, CSV file I/O (e.g. pd.read_csv)\n",
    "\n",
    "# Input data files are available in the read-only \"../input/\" directory\n",
    "# For example, running this (by clicking run or pressing Shift+Enter) will list all files under the input directory\n",
    "\n",
    "import os\n",
    "for dirname, _, filenames in os.walk('/kaggle/input'):\n",
    "    for filename in filenames:\n",
    "        print(os.path.join(dirname, filename))\n",
    "\n",
    "# You can write up to 5GB to the current directory (/kaggle/working/) that gets preserved as output when you create a version using \"Save & Run All\" \n",
    "# You can also write temporary files to /kaggle/temp/, but they won't be saved outside of the current session"
   ]
  },
  {
   "cell_type": "code",
   "execution_count": 2,
   "metadata": {
    "_cell_guid": "79c7e3d0-c299-4dcb-8224-4455121ee9b0",
    "_uuid": "d629ff2d2480ee46fbb7e2d37f6b5fab8052498a",
    "execution": {
     "iopub.execute_input": "2020-09-19T10:13:10.514934Z",
     "iopub.status.busy": "2020-09-19T10:13:10.514210Z",
     "iopub.status.idle": "2020-09-19T10:13:11.319769Z",
     "shell.execute_reply": "2020-09-19T10:13:11.319090Z"
    },
    "papermill": {
     "duration": 0.819734,
     "end_time": "2020-09-19T10:13:11.319893",
     "exception": false,
     "start_time": "2020-09-19T10:13:10.500159",
     "status": "completed"
    },
    "tags": []
   },
   "outputs": [
    {
     "data": {
      "text/plain": [
       "(1555, 14)"
      ]
     },
     "execution_count": 2,
     "metadata": {},
     "output_type": "execute_result"
    }
   ],
   "source": [
    "import pandas as pd\n",
    "import numpy as np\n",
    "\n",
    "#pre_processing\n",
    "#\n",
    "#\n",
    "#\n",
    "#\n",
    "#\n",
    "df = pd.read_csv('https://raw.githubusercontent.com/plenoi/Clinic/master/ultima_all_clean.csv')\n",
    "df = df.set_index('hn')\n",
    "df.head()\n",
    "\n",
    "df_clean_column = df.drop(['appearance','Wardsize','RHlvsi','depth','nodeyiel','vgmargin','pelvicme','adnmet'],axis = 1)\n",
    "\n",
    "df_clean = df_clean_column.dropna(axis = 0)\n",
    "\n",
    "pmmet_class = np.unique(df_clean['pmmet'])\n",
    "\n",
    "\n",
    "pmmet_value = [sum(df_clean['pmmet']==pmmet_class[0]),\n",
    "             sum(df_clean['pmmet']==pmmet_class[1])]\n",
    "\n",
    "y = df_clean['pmmet'].values\n",
    "X = df_clean.drop(['pmmet'],axis = 1).values\n",
    "X.shape\n",
    "#\n"
   ]
  },
  {
   "cell_type": "code",
   "execution_count": 3,
   "metadata": {
    "execution": {
     "iopub.execute_input": "2020-09-19T10:13:11.339314Z",
     "iopub.status.busy": "2020-09-19T10:13:11.338456Z",
     "iopub.status.idle": "2020-09-19T10:13:12.743552Z",
     "shell.execute_reply": "2020-09-19T10:13:12.742651Z"
    },
    "papermill": {
     "duration": 1.41757,
     "end_time": "2020-09-19T10:13:12.743694",
     "exception": false,
     "start_time": "2020-09-19T10:13:11.326124",
     "status": "completed"
    },
    "tags": []
   },
   "outputs": [],
   "source": [
    "from imblearn.over_sampling import SMOTE\n",
    "from collections import Counter\n",
    "######\n",
    "oversample = SMOTE()\n",
    "X,y = oversample.fit_resample(X,y)\n",
    "######\n",
    "\n",
    "from sklearn.model_selection import train_test_split\n",
    "X_train, X_test, y_train, y_test = train_test_split(X,y,test_size=0.2,random_state=0)\n",
    "######\n",
    "\n",
    "from sklearn.preprocessing import MinMaxScaler\n",
    "scaler = MinMaxScaler(feature_range=(0, 1))\n",
    "scaler.fit(X_train)\n",
    "X_train_norm = scaler.transform(X_train)\n",
    "X_test_norm = scaler.transform(X_test)"
   ]
  },
  {
   "cell_type": "code",
   "execution_count": 4,
   "metadata": {
    "execution": {
     "iopub.execute_input": "2020-09-19T10:13:12.765265Z",
     "iopub.status.busy": "2020-09-19T10:13:12.764234Z",
     "iopub.status.idle": "2020-09-19T10:42:33.874822Z",
     "shell.execute_reply": "2020-09-19T10:42:33.875394Z"
    },
    "papermill": {
     "duration": 1761.125429,
     "end_time": "2020-09-19T10:42:33.875578",
     "exception": false,
     "start_time": "2020-09-19T10:13:12.750149",
     "status": "completed"
    },
    "tags": []
   },
   "outputs": [
    {
     "name": "stdout",
     "output_type": "stream",
     "text": [
      "best params search time: 0:29:21.100407\n",
      "Best params : {'criterion': 'gini', 'max_features': 'sqrt', 'min_samples_leaf': 1, 'n_estimators': 50}\n",
      "10CV accuracy : 91.58536585365853\n"
     ]
    }
   ],
   "source": [
    "from sklearn.ensemble import ExtraTreesClassifier\n",
    "from sklearn.model_selection import GridSearchCV\n",
    "from datetime import datetime\n",
    "params = {\n",
    "    'n_estimators' : [10,50,100,200,500,1000],\n",
    "    'min_samples_leaf' : [1,2,4,8,16,32],\n",
    "    'max_features' : ['sqrt',0.5,0.8],\n",
    "    'criterion' : ['gini','entropy']\n",
    "}\n",
    "start=datetime.now()\n",
    "clf = GridSearchCV(ExtraTreesClassifier(random_state=0),params, cv = 10)\n",
    "clf.fit(X_train_norm, y_train)\n",
    "print('best params search time: '+str(datetime.now()-start))\n",
    "print(\"Best params : \" + str(clf.best_params_))\n",
    "print(\"10CV accuracy : \"+str(clf.best_score_*100))"
   ]
  },
  {
   "cell_type": "code",
   "execution_count": 5,
   "metadata": {
    "execution": {
     "iopub.execute_input": "2020-09-19T10:42:33.894437Z",
     "iopub.status.busy": "2020-09-19T10:42:33.893766Z",
     "iopub.status.idle": "2020-09-19T10:42:33.911767Z",
     "shell.execute_reply": "2020-09-19T10:42:33.911284Z"
    },
    "papermill": {
     "duration": 0.030341,
     "end_time": "2020-09-19T10:42:33.911882",
     "exception": false,
     "start_time": "2020-09-19T10:42:33.881541",
     "status": "completed"
    },
    "tags": []
   },
   "outputs": [
    {
     "name": "stdout",
     "output_type": "stream",
     "text": [
      "test runtime: 0:00:00.011592\n"
     ]
    },
    {
     "data": {
      "text/plain": [
       "0.90234375"
      ]
     },
     "execution_count": 5,
     "metadata": {},
     "output_type": "execute_result"
    }
   ],
   "source": [
    "from sklearn.metrics import classification_report\n",
    "from sklearn.metrics import confusion_matrix\n",
    "start = datetime.now()\n",
    "y_predict = clf.predict(X_test_norm)\n",
    "target_names = ['negative', 'positive']\n",
    "runtime = datetime.now()-start\n",
    "\n",
    "print('test runtime: '+ str(runtime))\n",
    "sum(y_test == y_predict)/len(y_test)"
   ]
  },
  {
   "cell_type": "code",
   "execution_count": 6,
   "metadata": {
    "execution": {
     "iopub.execute_input": "2020-09-19T10:42:33.933654Z",
     "iopub.status.busy": "2020-09-19T10:42:33.932995Z",
     "iopub.status.idle": "2020-09-19T10:42:34.329778Z",
     "shell.execute_reply": "2020-09-19T10:42:34.329074Z"
    },
    "papermill": {
     "duration": 0.41092,
     "end_time": "2020-09-19T10:42:34.329896",
     "exception": false,
     "start_time": "2020-09-19T10:42:33.918976",
     "status": "completed"
    },
    "tags": []
   },
   "outputs": [
    {
     "data": {
      "image/png": "[encoded data removed]",
      "text/plain": [
       "<Figure size 432x288 with 2 Axes>"
      ]
     },
     "metadata": {
      "needs_background": "light"
     },
     "output_type": "display_data"
    }
   ],
   "source": [
    "from sklearn.metrics import confusion_matrix\n",
    "import matplotlib.pyplot as plt\n",
    "import seaborn as sns\n",
    "target_names = ['negative', 'positive']\n",
    "C = confusion_matrix(y_test,y_predict) \n",
    "C = C / C.astype(np.float).sum(axis=1)*100\n",
    "sns.heatmap(C, annot=True, fmt=\".2f\",cmap=\"GnBu\",xticklabels=target_names, yticklabels=target_names)\n",
    "plt.ylabel(\"True Label\")\n",
    "plt.xlabel(\"Predicted Label\")\n",
    "plt.show()"
   ]
  },
  {
   "cell_type": "code",
   "execution_count": 7,
   "metadata": {
    "execution": {
     "iopub.execute_input": "2020-09-19T10:42:34.350410Z",
     "iopub.status.busy": "2020-09-19T10:42:34.349778Z",
     "iopub.status.idle": "2020-09-19T10:42:34.360344Z",
     "shell.execute_reply": "2020-09-19T10:42:34.359735Z"
    },
    "papermill": {
     "duration": 0.02282,
     "end_time": "2020-09-19T10:42:34.360461",
     "exception": false,
     "start_time": "2020-09-19T10:42:34.337641",
     "status": "completed"
    },
    "tags": []
   },
   "outputs": [
    {
     "name": "stdout",
     "output_type": "stream",
     "text": [
      "              precision    recall  f1-score   support\n",
      "\n",
      "    negative       0.91      0.90      0.90       257\n",
      "    positive       0.90      0.91      0.90       255\n",
      "\n",
      "    accuracy                           0.90       512\n",
      "   macro avg       0.90      0.90      0.90       512\n",
      "weighted avg       0.90      0.90      0.90       512\n",
      "\n"
     ]
    }
   ],
   "source": [
    "print(classification_report(y_test, y_predict, target_names=target_names))"
   ]
  }
 ],
 "metadata": {
  "kernelspec": {
   "display_name": "Python 3",
   "language": "python",
   "name": "python3"
  },
  "language_info": {
   "codemirror_mode": {
    "name": "ipython",
    "version": 3
   },
   "file_extension": ".py",
   "mimetype": "text/x-python",
   "name": "python",
   "nbconvert_exporter": "python",
   "pygments_lexer": "ipython3",
   "version": "3.7.6"
  },
  "papermill": {
   "duration": 1769.420007,
   "end_time": "2020-09-19T10:42:35.427606",
   "environment_variables": {},
   "exception": null,
   "input_path": "__notebook__.ipynb",
   "output_path": "__notebook__.ipynb",
   "parameters": {},
   "start_time": "2020-09-19T10:13:06.007599",
   "version": "2.1.0"
  }
 },
 "nbformat": 4,
 "nbformat_minor": 4
}
