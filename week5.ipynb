{
 "cells": [
  {
   "cell_type": "code",
   "execution_count": 1,
   "metadata": {
    "_cell_guid": "b1076dfc-b9ad-4769-8c92-a6c4dae69d19",
    "_uuid": "8f2839f25d086af736a60e9eeb907d3b93b6e0e5",
    "execution": {
     "iopub.execute_input": "2020-08-27T06:11:26.363618Z",
     "iopub.status.busy": "2020-08-27T06:11:26.362701Z",
     "iopub.status.idle": "2020-08-27T06:11:26.367693Z",
     "shell.execute_reply": "2020-08-27T06:11:26.368176Z"
    },
    "papermill": {
     "duration": 0.027571,
     "end_time": "2020-08-27T06:11:26.368347",
     "exception": false,
     "start_time": "2020-08-27T06:11:26.340776",
     "status": "completed"
    },
    "tags": []
   },
   "outputs": [],
   "source": [
    "# This Python 3 environment comes with many helpful analytics libraries installed\n",
    "# It is defined by the kaggle/python Docker image: https://github.com/kaggle/docker-python\n",
    "# For example, here's several helpful packages to load\n",
    "\n",
    "import numpy as np # linear algebra\n",
    "import pandas as pd # data processing, CSV file I/O (e.g. pd.read_csv)\n",
    "\n",
    "# Input data files are available in the read-only \"../input/\" directory\n",
    "# For example, running this (by clicking run or pressing Shift+Enter) will list all files under the input directory\n",
    "\n",
    "import os\n",
    "for dirname, _, filenames in os.walk('/kaggle/input'):\n",
    "    for filename in filenames:\n",
    "        print(os.path.join(dirname, filename))\n",
    "\n",
    "# You can write up to 5GB to the current directory (/kaggle/working/) that gets preserved as output when you create a version using \"Save & Run All\" \n",
    "# You can also write temporary files to /kaggle/temp/, but they won't be saved outside of the current session"
   ]
  },
  {
   "cell_type": "code",
   "execution_count": 2,
   "metadata": {
    "_cell_guid": "79c7e3d0-c299-4dcb-8224-4455121ee9b0",
    "_uuid": "d629ff2d2480ee46fbb7e2d37f6b5fab8052498a",
    "execution": {
     "iopub.execute_input": "2020-08-27T06:11:26.407469Z",
     "iopub.status.busy": "2020-08-27T06:11:26.406585Z",
     "iopub.status.idle": "2020-08-27T06:11:26.410549Z",
     "shell.execute_reply": "2020-08-27T06:11:26.410088Z"
    },
    "papermill": {
     "duration": 0.024295,
     "end_time": "2020-08-27T06:11:26.410650",
     "exception": false,
     "start_time": "2020-08-27T06:11:26.386355",
     "status": "completed"
    },
    "tags": []
   },
   "outputs": [],
   "source": [
    "import pandas as pd\n",
    "import numpy as np"
   ]
  },
  {
   "cell_type": "code",
   "execution_count": 3,
   "metadata": {
    "execution": {
     "iopub.execute_input": "2020-08-27T06:11:26.449636Z",
     "iopub.status.busy": "2020-08-27T06:11:26.448742Z",
     "iopub.status.idle": "2020-08-27T06:11:26.937494Z",
     "shell.execute_reply": "2020-08-27T06:11:26.937943Z"
    },
    "papermill": {
     "duration": 0.509537,
     "end_time": "2020-08-27T06:11:26.938120",
     "exception": false,
     "start_time": "2020-08-27T06:11:26.428583",
     "status": "completed"
    },
    "tags": []
   },
   "outputs": [
    {
     "data": {
      "text/html": [
       "<div>\n",
       "<style scoped>\n",
       "    .dataframe tbody tr th:only-of-type {\n",
       "        vertical-align: middle;\n",
       "    }\n",
       "\n",
       "    .dataframe tbody tr th {\n",
       "        vertical-align: top;\n",
       "    }\n",
       "\n",
       "    .dataframe thead th {\n",
       "        text-align: right;\n",
       "    }\n",
       "</style>\n",
       "<table border=\"1\" class=\"dataframe\">\n",
       "  <thead>\n",
       "    <tr style=\"text-align: right;\">\n",
       "      <th></th>\n",
       "      <th>age</th>\n",
       "      <th>parity</th>\n",
       "      <th>hiv</th>\n",
       "      <th>menopaus</th>\n",
       "      <th>disease</th>\n",
       "      <th>surgery</th>\n",
       "      <th>conization</th>\n",
       "      <th>OPDsize</th>\n",
       "      <th>appearance</th>\n",
       "      <th>stage</th>\n",
       "      <th>...</th>\n",
       "      <th>nodeyiel</th>\n",
       "      <th>RHlvsi</th>\n",
       "      <th>depth</th>\n",
       "      <th>size</th>\n",
       "      <th>utmet</th>\n",
       "      <th>vgmargin</th>\n",
       "      <th>vgmet</th>\n",
       "      <th>pelvicme</th>\n",
       "      <th>pmmet</th>\n",
       "      <th>adnmet</th>\n",
       "    </tr>\n",
       "    <tr>\n",
       "      <th>hn</th>\n",
       "      <th></th>\n",
       "      <th></th>\n",
       "      <th></th>\n",
       "      <th></th>\n",
       "      <th></th>\n",
       "      <th></th>\n",
       "      <th></th>\n",
       "      <th></th>\n",
       "      <th></th>\n",
       "      <th></th>\n",
       "      <th></th>\n",
       "      <th></th>\n",
       "      <th></th>\n",
       "      <th></th>\n",
       "      <th></th>\n",
       "      <th></th>\n",
       "      <th></th>\n",
       "      <th></th>\n",
       "      <th></th>\n",
       "      <th></th>\n",
       "      <th></th>\n",
       "    </tr>\n",
       "  </thead>\n",
       "  <tbody>\n",
       "    <tr>\n",
       "      <th>2631840</th>\n",
       "      <td>52</td>\n",
       "      <td>3</td>\n",
       "      <td>0.0</td>\n",
       "      <td>0.0</td>\n",
       "      <td>1</td>\n",
       "      <td>1</td>\n",
       "      <td>0.0</td>\n",
       "      <td>5.0</td>\n",
       "      <td>4.0</td>\n",
       "      <td>5.0</td>\n",
       "      <td>...</td>\n",
       "      <td>21.0</td>\n",
       "      <td>0.0</td>\n",
       "      <td>3.0</td>\n",
       "      <td>6.0</td>\n",
       "      <td>0.0</td>\n",
       "      <td>0.0</td>\n",
       "      <td>0.0</td>\n",
       "      <td>0.0</td>\n",
       "      <td>0.0</td>\n",
       "      <td>0.0</td>\n",
       "    </tr>\n",
       "    <tr>\n",
       "      <th>2633481</th>\n",
       "      <td>32</td>\n",
       "      <td>2</td>\n",
       "      <td>0.0</td>\n",
       "      <td>0.0</td>\n",
       "      <td>0</td>\n",
       "      <td>1</td>\n",
       "      <td>0.0</td>\n",
       "      <td>5.0</td>\n",
       "      <td>1.0</td>\n",
       "      <td>5.0</td>\n",
       "      <td>...</td>\n",
       "      <td>11.0</td>\n",
       "      <td>0.0</td>\n",
       "      <td>3.0</td>\n",
       "      <td>5.0</td>\n",
       "      <td>0.0</td>\n",
       "      <td>0.0</td>\n",
       "      <td>0.0</td>\n",
       "      <td>1.0</td>\n",
       "      <td>0.0</td>\n",
       "      <td>2.0</td>\n",
       "    </tr>\n",
       "    <tr>\n",
       "      <th>2634477</th>\n",
       "      <td>52</td>\n",
       "      <td>2</td>\n",
       "      <td>0.0</td>\n",
       "      <td>0.0</td>\n",
       "      <td>0</td>\n",
       "      <td>0</td>\n",
       "      <td>0.0</td>\n",
       "      <td>5.0</td>\n",
       "      <td>NaN</td>\n",
       "      <td>5.0</td>\n",
       "      <td>...</td>\n",
       "      <td>35.0</td>\n",
       "      <td>6.0</td>\n",
       "      <td>3.0</td>\n",
       "      <td>4.0</td>\n",
       "      <td>0.0</td>\n",
       "      <td>0.0</td>\n",
       "      <td>0.0</td>\n",
       "      <td>0.0</td>\n",
       "      <td>0.0</td>\n",
       "      <td>0.0</td>\n",
       "    </tr>\n",
       "    <tr>\n",
       "      <th>2633633</th>\n",
       "      <td>38</td>\n",
       "      <td>2</td>\n",
       "      <td>0.0</td>\n",
       "      <td>0.0</td>\n",
       "      <td>0</td>\n",
       "      <td>0</td>\n",
       "      <td>0.0</td>\n",
       "      <td>2.0</td>\n",
       "      <td>1.0</td>\n",
       "      <td>4.0</td>\n",
       "      <td>...</td>\n",
       "      <td>20.0</td>\n",
       "      <td>16.0</td>\n",
       "      <td>3.0</td>\n",
       "      <td>3.8</td>\n",
       "      <td>0.0</td>\n",
       "      <td>0.0</td>\n",
       "      <td>0.0</td>\n",
       "      <td>0.0</td>\n",
       "      <td>0.0</td>\n",
       "      <td>2.0</td>\n",
       "    </tr>\n",
       "    <tr>\n",
       "      <th>2630496</th>\n",
       "      <td>55</td>\n",
       "      <td>3</td>\n",
       "      <td>0.0</td>\n",
       "      <td>1.0</td>\n",
       "      <td>0</td>\n",
       "      <td>0</td>\n",
       "      <td>1.0</td>\n",
       "      <td>0.0</td>\n",
       "      <td>5.0</td>\n",
       "      <td>4.0</td>\n",
       "      <td>...</td>\n",
       "      <td>17.0</td>\n",
       "      <td>9.0</td>\n",
       "      <td>3.0</td>\n",
       "      <td>0.0</td>\n",
       "      <td>0.0</td>\n",
       "      <td>0.0</td>\n",
       "      <td>0.0</td>\n",
       "      <td>1.0</td>\n",
       "      <td>0.0</td>\n",
       "      <td>0.0</td>\n",
       "    </tr>\n",
       "  </tbody>\n",
       "</table>\n",
       "<p>5 rows × 23 columns</p>\n",
       "</div>"
      ],
      "text/plain": [
       "         age  parity  hiv  menopaus  disease  surgery  conization  OPDsize  \\\n",
       "hn                                                                           \n",
       "2631840   52       3  0.0       0.0        1        1         0.0      5.0   \n",
       "2633481   32       2  0.0       0.0        0        1         0.0      5.0   \n",
       "2634477   52       2  0.0       0.0        0        0         0.0      5.0   \n",
       "2633633   38       2  0.0       0.0        0        0         0.0      2.0   \n",
       "2630496   55       3  0.0       1.0        0        0         1.0      0.0   \n",
       "\n",
       "         appearance  stage  ...  nodeyiel  RHlvsi  depth  size  utmet  \\\n",
       "hn                          ...                                         \n",
       "2631840         4.0    5.0  ...      21.0     0.0    3.0   6.0    0.0   \n",
       "2633481         1.0    5.0  ...      11.0     0.0    3.0   5.0    0.0   \n",
       "2634477         NaN    5.0  ...      35.0     6.0    3.0   4.0    0.0   \n",
       "2633633         1.0    4.0  ...      20.0    16.0    3.0   3.8    0.0   \n",
       "2630496         5.0    4.0  ...      17.0     9.0    3.0   0.0    0.0   \n",
       "\n",
       "         vgmargin  vgmet  pelvicme  pmmet  adnmet  \n",
       "hn                                                 \n",
       "2631840       0.0    0.0       0.0    0.0     0.0  \n",
       "2633481       0.0    0.0       1.0    0.0     2.0  \n",
       "2634477       0.0    0.0       0.0    0.0     0.0  \n",
       "2633633       0.0    0.0       0.0    0.0     2.0  \n",
       "2630496       0.0    0.0       1.0    0.0     0.0  \n",
       "\n",
       "[5 rows x 23 columns]"
      ]
     },
     "execution_count": 3,
     "metadata": {},
     "output_type": "execute_result"
    }
   ],
   "source": [
    "df = pd.read_csv('https://raw.githubusercontent.com/plenoi/Clinic/master/ultima_all_clean.csv')\n",
    "df = df.set_index('hn')\n",
    "df.head()"
   ]
  },
  {
   "cell_type": "code",
   "execution_count": 4,
   "metadata": {
    "execution": {
     "iopub.execute_input": "2020-08-27T06:11:26.980854Z",
     "iopub.status.busy": "2020-08-27T06:11:26.979917Z",
     "iopub.status.idle": "2020-08-27T06:11:26.985831Z",
     "shell.execute_reply": "2020-08-27T06:11:26.985371Z"
    },
    "papermill": {
     "duration": 0.028868,
     "end_time": "2020-08-27T06:11:26.985932",
     "exception": false,
     "start_time": "2020-08-27T06:11:26.957064",
     "status": "completed"
    },
    "tags": []
   },
   "outputs": [
    {
     "data": {
      "text/plain": [
       "(1723, 23)"
      ]
     },
     "execution_count": 4,
     "metadata": {},
     "output_type": "execute_result"
    }
   ],
   "source": [
    "df.shape"
   ]
  },
  {
   "cell_type": "code",
   "execution_count": 5,
   "metadata": {
    "execution": {
     "iopub.execute_input": "2020-08-27T06:11:27.029575Z",
     "iopub.status.busy": "2020-08-27T06:11:27.028596Z",
     "iopub.status.idle": "2020-08-27T06:11:27.036935Z",
     "shell.execute_reply": "2020-08-27T06:11:27.037412Z"
    },
    "papermill": {
     "duration": 0.031345,
     "end_time": "2020-08-27T06:11:27.037585",
     "exception": false,
     "start_time": "2020-08-27T06:11:27.006240",
     "status": "completed"
    },
    "tags": []
   },
   "outputs": [
    {
     "data": {
      "text/plain": [
       "age             0\n",
       "parity          0\n",
       "hiv             4\n",
       "menopaus        1\n",
       "disease         0\n",
       "surgery         0\n",
       "conization      5\n",
       "OPDsize        17\n",
       "appearance    101\n",
       "stage          24\n",
       "pchemo          1\n",
       "Wardsize      145\n",
       "finalhisto     10\n",
       "nodeyiel       12\n",
       "RHlvsi        366\n",
       "depth         489\n",
       "size          114\n",
       "utmet          98\n",
       "vgmargin       96\n",
       "vgmet          97\n",
       "pelvicme        1\n",
       "pmmet          94\n",
       "adnmet          7\n",
       "dtype: int64"
      ]
     },
     "execution_count": 5,
     "metadata": {},
     "output_type": "execute_result"
    }
   ],
   "source": [
    "df.isnull().sum(axis=0)"
   ]
  },
  {
   "cell_type": "code",
   "execution_count": 6,
   "metadata": {
    "execution": {
     "iopub.execute_input": "2020-08-27T06:11:27.091114Z",
     "iopub.status.busy": "2020-08-27T06:11:27.090089Z",
     "iopub.status.idle": "2020-08-27T06:11:27.098488Z",
     "shell.execute_reply": "2020-08-27T06:11:27.098920Z"
    },
    "papermill": {
     "duration": 0.038341,
     "end_time": "2020-08-27T06:11:27.099093",
     "exception": false,
     "start_time": "2020-08-27T06:11:27.060752",
     "status": "completed"
    },
    "tags": []
   },
   "outputs": [
    {
     "data": {
      "text/plain": [
       "age             0\n",
       "parity          0\n",
       "hiv             4\n",
       "menopaus        1\n",
       "disease         0\n",
       "surgery         0\n",
       "conization      5\n",
       "OPDsize        17\n",
       "stage          24\n",
       "pchemo          1\n",
       "finalhisto     10\n",
       "size          114\n",
       "utmet          98\n",
       "vgmet          97\n",
       "pmmet          94\n",
       "dtype: int64"
      ]
     },
     "execution_count": 6,
     "metadata": {},
     "output_type": "execute_result"
    }
   ],
   "source": [
    "df_clean_column = df.drop(['appearance','Wardsize','RHlvsi','depth','nodeyiel','vgmargin','pelvicme','adnmet'],axis = 1)\n",
    "df_clean_column.isnull().sum(axis=0)"
   ]
  },
  {
   "cell_type": "code",
   "execution_count": 7,
   "metadata": {
    "execution": {
     "iopub.execute_input": "2020-08-27T06:11:27.147596Z",
     "iopub.status.busy": "2020-08-27T06:11:27.146719Z",
     "iopub.status.idle": "2020-08-27T06:11:27.172246Z",
     "shell.execute_reply": "2020-08-27T06:11:27.172751Z"
    },
    "papermill": {
     "duration": 0.054213,
     "end_time": "2020-08-27T06:11:27.172896",
     "exception": false,
     "start_time": "2020-08-27T06:11:27.118683",
     "status": "completed"
    },
    "tags": []
   },
   "outputs": [],
   "source": [
    "df_clean = df_clean_column.dropna(axis = 0)"
   ]
  },
  {
   "cell_type": "code",
   "execution_count": 8,
   "metadata": {
    "execution": {
     "iopub.execute_input": "2020-08-27T06:11:27.216076Z",
     "iopub.status.busy": "2020-08-27T06:11:27.215482Z",
     "iopub.status.idle": "2020-08-27T06:11:27.219845Z",
     "shell.execute_reply": "2020-08-27T06:11:27.220345Z"
    },
    "papermill": {
     "duration": 0.027829,
     "end_time": "2020-08-27T06:11:27.220492",
     "exception": false,
     "start_time": "2020-08-27T06:11:27.192663",
     "status": "completed"
    },
    "tags": []
   },
   "outputs": [
    {
     "data": {
      "text/plain": [
       "(1555, 15)"
      ]
     },
     "execution_count": 8,
     "metadata": {},
     "output_type": "execute_result"
    }
   ],
   "source": [
    "df_clean.shape"
   ]
  },
  {
   "cell_type": "code",
   "execution_count": 9,
   "metadata": {
    "execution": {
     "iopub.execute_input": "2020-08-27T06:11:27.266627Z",
     "iopub.status.busy": "2020-08-27T06:11:27.265927Z",
     "iopub.status.idle": "2020-08-27T06:11:27.272025Z",
     "shell.execute_reply": "2020-08-27T06:11:27.272458Z"
    },
    "papermill": {
     "duration": 0.030759,
     "end_time": "2020-08-27T06:11:27.272599",
     "exception": false,
     "start_time": "2020-08-27T06:11:27.241840",
     "status": "completed"
    },
    "tags": []
   },
   "outputs": [
    {
     "data": {
      "text/plain": [
       "array([0., 1.])"
      ]
     },
     "execution_count": 9,
     "metadata": {},
     "output_type": "execute_result"
    }
   ],
   "source": [
    "pmmet_class = np.unique(df_clean['pmmet'])\n",
    "pmmet_class"
   ]
  },
  {
   "cell_type": "code",
   "execution_count": 10,
   "metadata": {
    "execution": {
     "iopub.execute_input": "2020-08-27T06:11:27.318065Z",
     "iopub.status.busy": "2020-08-27T06:11:27.317482Z",
     "iopub.status.idle": "2020-08-27T06:11:27.323482Z",
     "shell.execute_reply": "2020-08-27T06:11:27.324033Z"
    },
    "papermill": {
     "duration": 0.030855,
     "end_time": "2020-08-27T06:11:27.324171",
     "exception": false,
     "start_time": "2020-08-27T06:11:27.293316",
     "status": "completed"
    },
    "tags": []
   },
   "outputs": [
    {
     "data": {
      "text/plain": [
       "[1278, 277]"
      ]
     },
     "execution_count": 10,
     "metadata": {},
     "output_type": "execute_result"
    }
   ],
   "source": [
    "pmmet_value = [sum(df_clean['pmmet']==pmmet_class[0]),\n",
    "             sum(df_clean['pmmet']==pmmet_class[1])]\n",
    "pmmet_value"
   ]
  },
  {
   "cell_type": "code",
   "execution_count": 11,
   "metadata": {
    "execution": {
     "iopub.execute_input": "2020-08-27T06:11:27.367852Z",
     "iopub.status.busy": "2020-08-27T06:11:27.367331Z",
     "iopub.status.idle": "2020-08-27T06:11:27.373306Z",
     "shell.execute_reply": "2020-08-27T06:11:27.372678Z"
    },
    "papermill": {
     "duration": 0.02888,
     "end_time": "2020-08-27T06:11:27.373418",
     "exception": false,
     "start_time": "2020-08-27T06:11:27.344538",
     "status": "completed"
    },
    "tags": []
   },
   "outputs": [],
   "source": [
    "y = df_clean['pmmet'].values\n",
    "X = df_clean.drop(['pmmet'],axis = 1).values"
   ]
  },
  {
   "cell_type": "code",
   "execution_count": 12,
   "metadata": {
    "execution": {
     "iopub.execute_input": "2020-08-27T06:11:27.420491Z",
     "iopub.status.busy": "2020-08-27T06:11:27.419854Z",
     "iopub.status.idle": "2020-08-27T06:11:28.505585Z",
     "shell.execute_reply": "2020-08-27T06:11:28.504923Z"
    },
    "papermill": {
     "duration": 1.111418,
     "end_time": "2020-08-27T06:11:28.505701",
     "exception": false,
     "start_time": "2020-08-27T06:11:27.394283",
     "status": "completed"
    },
    "tags": []
   },
   "outputs": [],
   "source": [
    "from sklearn.model_selection import train_test_split\n",
    "X_train, X_test, y_train, y_test = train_test_split(X,y,test_size=0.2,random_state=0)\n"
   ]
  },
  {
   "cell_type": "code",
   "execution_count": 13,
   "metadata": {
    "execution": {
     "iopub.execute_input": "2020-08-27T06:11:28.554879Z",
     "iopub.status.busy": "2020-08-27T06:11:28.553922Z",
     "iopub.status.idle": "2020-08-27T06:11:28.558455Z",
     "shell.execute_reply": "2020-08-27T06:11:28.557942Z"
    },
    "papermill": {
     "duration": 0.030852,
     "end_time": "2020-08-27T06:11:28.558570",
     "exception": false,
     "start_time": "2020-08-27T06:11:28.527718",
     "status": "completed"
    },
    "tags": []
   },
   "outputs": [],
   "source": [
    "from sklearn.preprocessing import MinMaxScaler\n",
    "scaler = MinMaxScaler(feature_range=(0, 1))\n",
    "scaler.fit(X_train)\n",
    "X_train_norm = scaler.transform(X_train)\n",
    "X_test_norm = scaler.transform(X_test)"
   ]
  },
  {
   "cell_type": "code",
   "execution_count": 14,
   "metadata": {
    "execution": {
     "iopub.execute_input": "2020-08-27T06:11:28.606454Z",
     "iopub.status.busy": "2020-08-27T06:11:28.605789Z",
     "iopub.status.idle": "2020-08-27T06:11:28.927461Z",
     "shell.execute_reply": "2020-08-27T06:11:28.927861Z"
    },
    "papermill": {
     "duration": 0.348567,
     "end_time": "2020-08-27T06:11:28.928028",
     "exception": false,
     "start_time": "2020-08-27T06:11:28.579461",
     "status": "completed"
    },
    "tags": []
   },
   "outputs": [
    {
     "name": "stdout",
     "output_type": "stream",
     "text": [
      "Best params : {'C': 1}\n",
      "10CV accuracy : 83.36193548387098\n"
     ]
    }
   ],
   "source": [
    "from sklearn.linear_model import LogisticRegression\n",
    "from sklearn.model_selection import GridSearchCV\n",
    "\n",
    "params = {'C': [1, 2, 4, 8, 16]}\n",
    "clf = GridSearchCV(LogisticRegression(random_state=0, solver='liblinear'),params, cv=10)\n",
    "clf.fit(X_train_norm, y_train)\n",
    "print(\"Best params : \" + str(clf.best_params_))\n",
    "print(\"10CV accuracy : \"+str(clf.best_score_*100))"
   ]
  },
  {
   "cell_type": "code",
   "execution_count": 15,
   "metadata": {
    "execution": {
     "iopub.execute_input": "2020-08-27T06:11:29.001662Z",
     "iopub.status.busy": "2020-08-27T06:11:29.000736Z",
     "iopub.status.idle": "2020-08-27T06:11:29.003847Z",
     "shell.execute_reply": "2020-08-27T06:11:29.004338Z"
    },
    "papermill": {
     "duration": 0.052729,
     "end_time": "2020-08-27T06:11:29.004500",
     "exception": false,
     "start_time": "2020-08-27T06:11:28.951771",
     "status": "completed"
    },
    "tags": []
   },
   "outputs": [
    {
     "name": "stdout",
     "output_type": "stream",
     "text": [
      "Test accuracy : 84.56591639871382\n"
     ]
    }
   ],
   "source": [
    "from sklearn.metrics import classification_report\n",
    "from sklearn.metrics import confusion_matrix\n",
    "y_predict = clf.predict(X_test_norm)\n",
    "print(\"Test accuracy : \"+str(sum(y_test == y_predict)/len(y_test)*100))"
   ]
  },
  {
   "cell_type": "code",
   "execution_count": 16,
   "metadata": {
    "execution": {
     "iopub.execute_input": "2020-08-27T06:11:29.056143Z",
     "iopub.status.busy": "2020-08-27T06:11:29.055444Z",
     "iopub.status.idle": "2020-08-27T06:11:29.344889Z",
     "shell.execute_reply": "2020-08-27T06:11:29.345314Z"
    },
    "papermill": {
     "duration": 0.31865,
     "end_time": "2020-08-27T06:11:29.345464",
     "exception": false,
     "start_time": "2020-08-27T06:11:29.026814",
     "status": "completed"
    },
    "tags": []
   },
   "outputs": [
    {
     "data": {
      "image/png": "[encoded data removed]",
      "text/plain": [
       "<Figure size 432x288 with 2 Axes>"
      ]
     },
     "metadata": {
      "needs_background": "light"
     },
     "output_type": "display_data"
    }
   ],
   "source": [
    "from sklearn.metrics import confusion_matrix\n",
    "import matplotlib.pyplot as plt\n",
    "import seaborn as sns\n",
    "target_names = ['negative', 'positive']\n",
    "C = confusion_matrix(y_test,y_predict) \n",
    "C = C / C.astype(np.float).sum(axis=1)*100\n",
    "sns.heatmap(C, annot=True, fmt=\"f\",cmap=\"GnBu\",xticklabels=target_names, yticklabels=target_names)\n",
    "plt.ylabel(\"True Label\")\n",
    "plt.xlabel(\"Predicted Label\")\n",
    "plt.show()"
   ]
  },
  {
   "cell_type": "code",
   "execution_count": 17,
   "metadata": {
    "execution": {
     "iopub.execute_input": "2020-08-27T06:11:29.392850Z",
     "iopub.status.busy": "2020-08-27T06:11:29.392252Z",
     "iopub.status.idle": "2020-08-27T06:11:29.401846Z",
     "shell.execute_reply": "2020-08-27T06:11:29.402339Z"
    },
    "papermill": {
     "duration": 0.034608,
     "end_time": "2020-08-27T06:11:29.402484",
     "exception": false,
     "start_time": "2020-08-27T06:11:29.367876",
     "status": "completed"
    },
    "tags": []
   },
   "outputs": [
    {
     "name": "stdout",
     "output_type": "stream",
     "text": [
      "              precision    recall  f1-score   support\n",
      "\n",
      "    negative       0.86      0.97      0.91       258\n",
      "    positive       0.62      0.25      0.35        53\n",
      "\n",
      "    accuracy                           0.85       311\n",
      "   macro avg       0.74      0.61      0.63       311\n",
      "weighted avg       0.82      0.85      0.82       311\n",
      "\n"
     ]
    }
   ],
   "source": [
    "\n",
    "print(classification_report(y_test, y_predict, target_names=target_names))"
   ]
  },
  {
   "cell_type": "code",
   "execution_count": 18,
   "metadata": {
    "execution": {
     "iopub.execute_input": "2020-08-27T06:11:29.456314Z",
     "iopub.status.busy": "2020-08-27T06:11:29.455688Z",
     "iopub.status.idle": "2020-08-27T06:12:00.492767Z",
     "shell.execute_reply": "2020-08-27T06:12:00.493247Z"
    },
    "papermill": {
     "duration": 31.067987,
     "end_time": "2020-08-27T06:12:00.493385",
     "exception": false,
     "start_time": "2020-08-27T06:11:29.425398",
     "status": "completed"
    },
    "tags": []
   },
   "outputs": [
    {
     "name": "stdout",
     "output_type": "stream",
     "text": [
      "Best params : {'C': 8, 'gamma': 0.5}\n",
      "10CV accuracy : 84.2458064516129\n"
     ]
    }
   ],
   "source": [
    "from sklearn.svm import SVC\n",
    "from sklearn.model_selection import GridSearchCV\n",
    "params = {\n",
    "    'C' : [1,2,4,8,16,32], # High C = Overfitting\n",
    "    'gamma' : [0.03125, 0.0625, 0.125, 0.25, 0.5, 1, 2, 4, 8, 16, 32] # High gamma = Overfitting\n",
    "}\n",
    "clf = GridSearchCV(SVC(),params, cv=10)\n",
    "clf.fit(X_train_norm, y_train)\n",
    "print(\"Best params : \" + str(clf.best_params_))\n",
    "print(\"10CV accuracy : \"+str(clf.best_score_*100))"
   ]
  },
  {
   "cell_type": "code",
   "execution_count": 19,
   "metadata": {
    "execution": {
     "iopub.execute_input": "2020-08-27T06:12:00.547151Z",
     "iopub.status.busy": "2020-08-27T06:12:00.546274Z",
     "iopub.status.idle": "2020-08-27T06:12:00.559623Z",
     "shell.execute_reply": "2020-08-27T06:12:00.559027Z"
    },
    "papermill": {
     "duration": 0.043555,
     "end_time": "2020-08-27T06:12:00.559735",
     "exception": false,
     "start_time": "2020-08-27T06:12:00.516180",
     "status": "completed"
    },
    "tags": []
   },
   "outputs": [
    {
     "data": {
      "text/plain": [
       "0.8167202572347267"
      ]
     },
     "execution_count": 19,
     "metadata": {},
     "output_type": "execute_result"
    }
   ],
   "source": [
    "from sklearn.metrics import classification_report\n",
    "from sklearn.metrics import confusion_matrix\n",
    "y_predict = clf.predict(X_test_norm)\n",
    "target_names = ['negative', 'positive']\n",
    "sum(y_test == y_predict)/len(y_test)"
   ]
  },
  {
   "cell_type": "code",
   "execution_count": 20,
   "metadata": {
    "execution": {
     "iopub.execute_input": "2020-08-27T06:12:00.609192Z",
     "iopub.status.busy": "2020-08-27T06:12:00.608621Z",
     "iopub.status.idle": "2020-08-27T06:12:00.762558Z",
     "shell.execute_reply": "2020-08-27T06:12:00.762047Z"
    },
    "papermill": {
     "duration": 0.179623,
     "end_time": "2020-08-27T06:12:00.762687",
     "exception": false,
     "start_time": "2020-08-27T06:12:00.583064",
     "status": "completed"
    },
    "tags": []
   },
   "outputs": [
    {
     "data": {
      "image/png": "[encoded data removed]",
      "text/plain": [
       "<Figure size 432x288 with 2 Axes>"
      ]
     },
     "metadata": {
      "needs_background": "light"
     },
     "output_type": "display_data"
    }
   ],
   "source": [
    "from sklearn.metrics import confusion_matrix\n",
    "import matplotlib.pyplot as plt\n",
    "import seaborn as sns\n",
    "target_names = ['negative', 'positive']\n",
    "C = confusion_matrix(y_test,y_predict) \n",
    "C = C / C.astype(np.float).sum(axis=1)*100\n",
    "sns.heatmap(C, annot=True, fmt=\".2f\",cmap=\"GnBu\",xticklabels=target_names, yticklabels=target_names)\n",
    "plt.ylabel(\"True Label\")\n",
    "plt.xlabel(\"Predicted Label\")\n",
    "plt.show()"
   ]
  },
  {
   "cell_type": "code",
   "execution_count": 21,
   "metadata": {
    "execution": {
     "iopub.execute_input": "2020-08-27T06:12:00.816563Z",
     "iopub.status.busy": "2020-08-27T06:12:00.815933Z",
     "iopub.status.idle": "2020-08-27T06:12:00.823763Z",
     "shell.execute_reply": "2020-08-27T06:12:00.823049Z"
    },
    "papermill": {
     "duration": 0.036744,
     "end_time": "2020-08-27T06:12:00.823946",
     "exception": false,
     "start_time": "2020-08-27T06:12:00.787202",
     "status": "completed"
    },
    "tags": []
   },
   "outputs": [
    {
     "name": "stdout",
     "output_type": "stream",
     "text": [
      "              precision    recall  f1-score   support\n",
      "\n",
      "    negative       0.85      0.94      0.90       258\n",
      "    positive       0.42      0.21      0.28        53\n",
      "\n",
      "    accuracy                           0.82       311\n",
      "   macro avg       0.64      0.57      0.59       311\n",
      "weighted avg       0.78      0.82      0.79       311\n",
      "\n"
     ]
    }
   ],
   "source": [
    "print(classification_report(y_test, y_predict, target_names=target_names))"
   ]
  },
  {
   "cell_type": "code",
   "execution_count": 22,
   "metadata": {
    "execution": {
     "iopub.execute_input": "2020-08-27T06:12:00.875754Z",
     "iopub.status.busy": "2020-08-27T06:12:00.875226Z",
     "iopub.status.idle": "2020-08-27T06:13:34.169066Z",
     "shell.execute_reply": "2020-08-27T06:13:34.169576Z"
    },
    "papermill": {
     "duration": 93.321185,
     "end_time": "2020-08-27T06:13:34.169730",
     "exception": false,
     "start_time": "2020-08-27T06:12:00.848545",
     "status": "completed"
    },
    "tags": []
   },
   "outputs": [
    {
     "name": "stdout",
     "output_type": "stream",
     "text": [
      "Best params : {'min_samples_leaf': 2, 'n_estimators': 100}\n",
      "10CV accuracy : 84.40774193548387\n"
     ]
    }
   ],
   "source": [
    "from sklearn.ensemble import RandomForestClassifier\n",
    "from sklearn.model_selection import GridSearchCV\n",
    "params = {\n",
    "    'n_estimators' : [10,50,100,200,500],\n",
    "    'min_samples_leaf' : [1,2,4,8,16,32],\n",
    "    #'max_features' : ['sqrt',0.5,0.8],\n",
    "    #'criterion' : ['gini','entropy']\n",
    "}\n",
    "clf = GridSearchCV(RandomForestClassifier(random_state=0),params, cv = 10)\n",
    "clf.fit(X_train_norm, y_train)\n",
    "print(\"Best params : \" + str(clf.best_params_))\n",
    "print(\"10CV accuracy : \"+str(clf.best_score_*100))"
   ]
  },
  {
   "cell_type": "code",
   "execution_count": 23,
   "metadata": {
    "execution": {
     "iopub.execute_input": "2020-08-27T06:13:34.226134Z",
     "iopub.status.busy": "2020-08-27T06:13:34.224927Z",
     "iopub.status.idle": "2020-08-27T06:13:34.245190Z",
     "shell.execute_reply": "2020-08-27T06:13:34.245589Z"
    },
    "papermill": {
     "duration": 0.051628,
     "end_time": "2020-08-27T06:13:34.245732",
     "exception": false,
     "start_time": "2020-08-27T06:13:34.194104",
     "status": "completed"
    },
    "tags": []
   },
   "outputs": [
    {
     "data": {
      "text/plain": [
       "0.8295819935691319"
      ]
     },
     "execution_count": 23,
     "metadata": {},
     "output_type": "execute_result"
    }
   ],
   "source": [
    "from sklearn.metrics import classification_report\n",
    "from sklearn.metrics import confusion_matrix\n",
    "y_predict = clf.predict(X_test_norm)\n",
    "target_names = ['negative', 'positive']\n",
    "sum(y_test == y_predict)/len(y_test)"
   ]
  },
  {
   "cell_type": "code",
   "execution_count": 24,
   "metadata": {
    "execution": {
     "iopub.execute_input": "2020-08-27T06:13:34.302807Z",
     "iopub.status.busy": "2020-08-27T06:13:34.301883Z",
     "iopub.status.idle": "2020-08-27T06:13:34.447088Z",
     "shell.execute_reply": "2020-08-27T06:13:34.447529Z"
    },
    "papermill": {
     "duration": 0.177015,
     "end_time": "2020-08-27T06:13:34.447677",
     "exception": false,
     "start_time": "2020-08-27T06:13:34.270662",
     "status": "completed"
    },
    "tags": []
   },
   "outputs": [
    {
     "data": {
      "image/png": "[encoded data removed]",
      "text/plain": [
       "<Figure size 432x288 with 2 Axes>"
      ]
     },
     "metadata": {
      "needs_background": "light"
     },
     "output_type": "display_data"
    }
   ],
   "source": [
    "from sklearn.metrics import confusion_matrix\n",
    "import matplotlib.pyplot as plt\n",
    "import seaborn as sns\n",
    "target_names = ['negative', 'positive']\n",
    "C = confusion_matrix(y_test,y_predict) \n",
    "C = C / C.astype(np.float).sum(axis=1)*100\n",
    "sns.heatmap(C, annot=True, fmt=\".2f\",cmap=\"GnBu\",xticklabels=target_names, yticklabels=target_names)\n",
    "plt.ylabel(\"True Label\")\n",
    "plt.xlabel(\"Predicted Label\")\n",
    "plt.show()"
   ]
  },
  {
   "cell_type": "code",
   "execution_count": 25,
   "metadata": {
    "execution": {
     "iopub.execute_input": "2020-08-27T06:13:34.503423Z",
     "iopub.status.busy": "2020-08-27T06:13:34.502372Z",
     "iopub.status.idle": "2020-08-27T06:13:34.511867Z",
     "shell.execute_reply": "2020-08-27T06:13:34.512556Z"
    },
    "papermill": {
     "duration": 0.039476,
     "end_time": "2020-08-27T06:13:34.512743",
     "exception": false,
     "start_time": "2020-08-27T06:13:34.473267",
     "status": "completed"
    },
    "tags": []
   },
   "outputs": [
    {
     "name": "stdout",
     "output_type": "stream",
     "text": [
      "              precision    recall  f1-score   support\n",
      "\n",
      "    negative       0.86      0.95      0.90       258\n",
      "    positive       0.50      0.26      0.35        53\n",
      "\n",
      "    accuracy                           0.83       311\n",
      "   macro avg       0.68      0.60      0.62       311\n",
      "weighted avg       0.80      0.83      0.81       311\n",
      "\n"
     ]
    }
   ],
   "source": [
    "print(classification_report(y_test, y_predict, target_names=target_names))"
   ]
  },
  {
   "cell_type": "code",
   "execution_count": 26,
   "metadata": {
    "execution": {
     "iopub.execute_input": "2020-08-27T06:13:34.568798Z",
     "iopub.status.busy": "2020-08-27T06:13:34.567899Z",
     "iopub.status.idle": "2020-08-27T06:17:56.358914Z",
     "shell.execute_reply": "2020-08-27T06:17:56.359931Z"
    },
    "papermill": {
     "duration": 261.821046,
     "end_time": "2020-08-27T06:17:56.360194",
     "exception": false,
     "start_time": "2020-08-27T06:13:34.539148",
     "status": "completed"
    },
    "tags": []
   },
   "outputs": [
    {
     "name": "stdout",
     "output_type": "stream",
     "text": [
      "Best params : {'colsample_bytree': 0.8, 'learning_rate': 0.1, 'max_depth': 8, 'n_estimators': 50, 'subsample': 0.5}\n",
      "10CV accuracy : 84.4883870967742\n"
     ]
    }
   ],
   "source": [
    "#!pip install xgboost  // If you dont have XGBoost\n",
    "import xgboost as xgb\n",
    "from sklearn.model_selection import GridSearchCV\n",
    "params = {\n",
    "    'n_estimators' : [10,50,100,200],\n",
    "    'max_depth' : [2, 4, 8],\n",
    "    'learning_rate' : [0.001, 0.01, 0.1],\n",
    "    'subsample' : [0.5,0.8, 1],\n",
    "    'colsample_bytree' : [0.5, 0.8, 1]    \n",
    "}\n",
    "clf = GridSearchCV(xgb.XGBClassifier(random_state=0, objective='binary:logistic',n_jobs=-1),params, cv = 10)\n",
    "clf.fit(X_train_norm, y_train)\n",
    "print(\"Best params : \" + str(clf.best_params_))\n",
    "print(\"10CV accuracy : \"+str(clf.best_score_*100))"
   ]
  },
  {
   "cell_type": "code",
   "execution_count": 27,
   "metadata": {
    "execution": {
     "iopub.execute_input": "2020-08-27T06:17:56.427911Z",
     "iopub.status.busy": "2020-08-27T06:17:56.426883Z",
     "iopub.status.idle": "2020-08-27T06:17:56.432370Z",
     "shell.execute_reply": "2020-08-27T06:17:56.433203Z"
    },
    "papermill": {
     "duration": 0.046585,
     "end_time": "2020-08-27T06:17:56.433424",
     "exception": false,
     "start_time": "2020-08-27T06:17:56.386839",
     "status": "completed"
    },
    "tags": []
   },
   "outputs": [
    {
     "data": {
      "text/plain": [
       "0.8231511254019293"
      ]
     },
     "execution_count": 27,
     "metadata": {},
     "output_type": "execute_result"
    }
   ],
   "source": [
    "from sklearn.metrics import classification_report\n",
    "from sklearn.metrics import confusion_matrix\n",
    "y_predict = clf.predict(X_test_norm)\n",
    "target_names = ['negative', 'positive']\n",
    "sum(y_test == y_predict)/len(y_test)"
   ]
  },
  {
   "cell_type": "code",
   "execution_count": 28,
   "metadata": {
    "execution": {
     "iopub.execute_input": "2020-08-27T06:17:56.496141Z",
     "iopub.status.busy": "2020-08-27T06:17:56.495568Z",
     "iopub.status.idle": "2020-08-27T06:17:56.656691Z",
     "shell.execute_reply": "2020-08-27T06:17:56.656127Z"
    },
    "papermill": {
     "duration": 0.19044,
     "end_time": "2020-08-27T06:17:56.656794",
     "exception": false,
     "start_time": "2020-08-27T06:17:56.466354",
     "status": "completed"
    },
    "tags": []
   },
   "outputs": [
    {
     "data": {
      "image/png": "[encoded data removed]",
      "text/plain": [
       "<Figure size 432x288 with 2 Axes>"
      ]
     },
     "metadata": {
      "needs_background": "light"
     },
     "output_type": "display_data"
    }
   ],
   "source": [
    "from sklearn.metrics import confusion_matrix\n",
    "import matplotlib.pyplot as plt\n",
    "import seaborn as sns\n",
    "target_names = ['negative', 'positive']\n",
    "C = confusion_matrix(y_test,y_predict) \n",
    "C = C / C.astype(np.float).sum(axis=1)*100\n",
    "sns.heatmap(C, annot=True, fmt=\".2f\",cmap=\"GnBu\",xticklabels=target_names, yticklabels=target_names)\n",
    "plt.ylabel(\"True Label\")\n",
    "plt.xlabel(\"Predicted Label\")\n",
    "plt.show()"
   ]
  },
  {
   "cell_type": "code",
   "execution_count": 29,
   "metadata": {
    "execution": {
     "iopub.execute_input": "2020-08-27T06:17:56.717533Z",
     "iopub.status.busy": "2020-08-27T06:17:56.716521Z",
     "iopub.status.idle": "2020-08-27T06:17:56.727090Z",
     "shell.execute_reply": "2020-08-27T06:17:56.726202Z"
    },
    "papermill": {
     "duration": 0.043011,
     "end_time": "2020-08-27T06:17:56.727259",
     "exception": false,
     "start_time": "2020-08-27T06:17:56.684248",
     "status": "completed"
    },
    "tags": []
   },
   "outputs": [
    {
     "name": "stdout",
     "output_type": "stream",
     "text": [
      "              precision    recall  f1-score   support\n",
      "\n",
      "    negative       0.86      0.93      0.90       258\n",
      "    positive       0.47      0.28      0.35        53\n",
      "\n",
      "    accuracy                           0.82       311\n",
      "   macro avg       0.67      0.61      0.63       311\n",
      "weighted avg       0.80      0.82      0.80       311\n",
      "\n"
     ]
    }
   ],
   "source": [
    "print(classification_report(y_test, y_predict, target_names=target_names))"
   ]
  },
  {
   "cell_type": "code",
   "execution_count": 30,
   "metadata": {
    "execution": {
     "iopub.execute_input": "2020-08-27T06:17:56.786926Z",
     "iopub.status.busy": "2020-08-27T06:17:56.786320Z",
     "iopub.status.idle": "2020-08-27T06:18:27.449485Z",
     "shell.execute_reply": "2020-08-27T06:18:27.450282Z"
    },
    "papermill": {
     "duration": 30.694712,
     "end_time": "2020-08-27T06:18:27.450455",
     "exception": false,
     "start_time": "2020-08-27T06:17:56.755743",
     "status": "completed"
    },
    "tags": []
   },
   "outputs": [
    {
     "name": "stdout",
     "output_type": "stream",
     "text": [
      "Best params : {'C': 8, 'gamma': 0.5}\n",
      "10CV accuracy : 84.2458064516129\n"
     ]
    }
   ],
   "source": [
    "from sklearn.svm import SVC\n",
    "from sklearn.model_selection import GridSearchCV\n",
    "params = {\n",
    "    'C' : [1,2,4,8,16,32], # High C = Overfitting\n",
    "    'gamma' : [0.03125, 0.0625, 0.125, 0.25, 0.5, 1, 2, 4, 8, 16, 32] # High gamma = Overfitting\n",
    "}\n",
    "clf = GridSearchCV(SVC(),params, cv=10)\n",
    "clf.fit(X_train_norm, y_train)\n",
    "print(\"Best params : \" + str(clf.best_params_))\n",
    "print(\"10CV accuracy : \"+str(clf.best_score_*100))"
   ]
  },
  {
   "cell_type": "code",
   "execution_count": 31,
   "metadata": {
    "execution": {
     "iopub.execute_input": "2020-08-27T06:18:27.514540Z",
     "iopub.status.busy": "2020-08-27T06:18:27.513884Z",
     "iopub.status.idle": "2020-08-27T06:18:27.525692Z",
     "shell.execute_reply": "2020-08-27T06:18:27.525202Z"
    },
    "papermill": {
     "duration": 0.045441,
     "end_time": "2020-08-27T06:18:27.525809",
     "exception": false,
     "start_time": "2020-08-27T06:18:27.480368",
     "status": "completed"
    },
    "tags": []
   },
   "outputs": [
    {
     "data": {
      "text/plain": [
       "0.8167202572347267"
      ]
     },
     "execution_count": 31,
     "metadata": {},
     "output_type": "execute_result"
    }
   ],
   "source": [
    "from sklearn.metrics import classification_report\n",
    "from sklearn.metrics import confusion_matrix\n",
    "y_predict = clf.predict(X_test_norm)\n",
    "target_names = ['negative', 'positive']\n",
    "sum(y_test == y_predict)/len(y_test)"
   ]
  },
  {
   "cell_type": "code",
   "execution_count": 32,
   "metadata": {
    "execution": {
     "iopub.execute_input": "2020-08-27T06:18:27.585635Z",
     "iopub.status.busy": "2020-08-27T06:18:27.585104Z",
     "iopub.status.idle": "2020-08-27T06:18:27.742860Z",
     "shell.execute_reply": "2020-08-27T06:18:27.743371Z"
    },
    "papermill": {
     "duration": 0.189201,
     "end_time": "2020-08-27T06:18:27.743530",
     "exception": false,
     "start_time": "2020-08-27T06:18:27.554329",
     "status": "completed"
    },
    "tags": []
   },
   "outputs": [
    {
     "data": {
      "image/png": "[encoded data removed]",
      "text/plain": [
       "<Figure size 432x288 with 2 Axes>"
      ]
     },
     "metadata": {
      "needs_background": "light"
     },
     "output_type": "display_data"
    }
   ],
   "source": [
    "\n",
    "from sklearn.metrics import confusion_matrix\n",
    "import matplotlib.pyplot as plt\n",
    "import seaborn as sns\n",
    "target_names = ['negative', 'positive']\n",
    "C = confusion_matrix(y_test,y_predict) \n",
    "C = C / C.astype(np.float).sum(axis=1)*100\n",
    "sns.heatmap(C, annot=True, fmt=\".2f\",cmap=\"GnBu\",xticklabels=target_names, yticklabels=target_names)\n",
    "plt.ylabel(\"True Label\")\n",
    "plt.xlabel(\"Predicted Label\")\n",
    "plt.show()"
   ]
  },
  {
   "cell_type": "code",
   "execution_count": 33,
   "metadata": {
    "execution": {
     "iopub.execute_input": "2020-08-27T06:18:27.807471Z",
     "iopub.status.busy": "2020-08-27T06:18:27.806913Z",
     "iopub.status.idle": "2020-08-27T06:18:27.816697Z",
     "shell.execute_reply": "2020-08-27T06:18:27.816107Z"
    },
    "papermill": {
     "duration": 0.042545,
     "end_time": "2020-08-27T06:18:27.816805",
     "exception": false,
     "start_time": "2020-08-27T06:18:27.774260",
     "status": "completed"
    },
    "tags": []
   },
   "outputs": [
    {
     "name": "stdout",
     "output_type": "stream",
     "text": [
      "              precision    recall  f1-score   support\n",
      "\n",
      "    negative       0.85      0.94      0.90       258\n",
      "    positive       0.42      0.21      0.28        53\n",
      "\n",
      "    accuracy                           0.82       311\n",
      "   macro avg       0.64      0.57      0.59       311\n",
      "weighted avg       0.78      0.82      0.79       311\n",
      "\n"
     ]
    }
   ],
   "source": [
    "print(classification_report(y_test, y_predict, target_names=target_names))"
   ]
  },
  {
   "cell_type": "code",
   "execution_count": 34,
   "metadata": {
    "execution": {
     "iopub.execute_input": "2020-08-27T06:18:27.884790Z",
     "iopub.status.busy": "2020-08-27T06:18:27.883861Z",
     "iopub.status.idle": "2020-08-27T06:29:31.893733Z",
     "shell.execute_reply": "2020-08-27T06:29:31.894400Z"
    },
    "papermill": {
     "duration": 664.048342,
     "end_time": "2020-08-27T06:29:31.894584",
     "exception": false,
     "start_time": "2020-08-27T06:18:27.846242",
     "status": "completed"
    },
    "tags": []
   },
   "outputs": [
    {
     "name": "stdout",
     "output_type": "stream",
     "text": [
      "Best params : {'criterion': 'entropy', 'max_features': 0.8, 'min_samples_leaf': 4, 'n_estimators': 100}\n",
      "10CV accuracy : 84.64903225806452\n"
     ]
    }
   ],
   "source": [
    "\n",
    "from sklearn.ensemble import RandomForestClassifier\n",
    "from sklearn.model_selection import GridSearchCV\n",
    "params = {\n",
    "    'n_estimators' : [10,50,100,200,500],\n",
    "    'min_samples_leaf' : [1,2,4,8,16,32],\n",
    "    'max_features' : ['sqrt',0.5,0.8],\n",
    "    'criterion' : ['gini','entropy']\n",
    "}\n",
    "clf = GridSearchCV(RandomForestClassifier(random_state=0),params, cv = 10)\n",
    "clf.fit(X_train_norm, y_train)\n",
    "print(\"Best params : \" + str(clf.best_params_))\n",
    "print(\"10CV accuracy : \"+str(clf.best_score_*100))"
   ]
  },
  {
   "cell_type": "code",
   "execution_count": 35,
   "metadata": {
    "execution": {
     "iopub.execute_input": "2020-08-27T06:29:31.963609Z",
     "iopub.status.busy": "2020-08-27T06:29:31.962681Z",
     "iopub.status.idle": "2020-08-27T06:29:31.980339Z",
     "shell.execute_reply": "2020-08-27T06:29:31.979714Z"
    },
    "papermill": {
     "duration": 0.05504,
     "end_time": "2020-08-27T06:29:31.980452",
     "exception": false,
     "start_time": "2020-08-27T06:29:31.925412",
     "status": "completed"
    },
    "tags": []
   },
   "outputs": [
    {
     "data": {
      "text/plain": [
       "0.8135048231511254"
      ]
     },
     "execution_count": 35,
     "metadata": {},
     "output_type": "execute_result"
    }
   ],
   "source": [
    "from sklearn.metrics import classification_report\n",
    "from sklearn.metrics import confusion_matrix\n",
    "y_predict = clf.predict(X_test_norm)\n",
    "target_names = ['negative', 'positive']\n",
    "sum(y_test == y_predict)/len(y_test)"
   ]
  },
  {
   "cell_type": "code",
   "execution_count": 36,
   "metadata": {
    "execution": {
     "iopub.execute_input": "2020-08-27T06:29:32.048919Z",
     "iopub.status.busy": "2020-08-27T06:29:32.048325Z",
     "iopub.status.idle": "2020-08-27T06:29:32.189443Z",
     "shell.execute_reply": "2020-08-27T06:29:32.188943Z"
    },
    "papermill": {
     "duration": 0.17826,
     "end_time": "2020-08-27T06:29:32.189546",
     "exception": false,
     "start_time": "2020-08-27T06:29:32.011286",
     "status": "completed"
    },
    "tags": []
   },
   "outputs": [
    {
     "data": {
      "image/png": "[encoded data removed]",
      "text/plain": [
       "<Figure size 432x288 with 2 Axes>"
      ]
     },
     "metadata": {
      "needs_background": "light"
     },
     "output_type": "display_data"
    }
   ],
   "source": [
    "from sklearn.metrics import confusion_matrix\n",
    "import matplotlib.pyplot as plt\n",
    "import seaborn as sns\n",
    "target_names = ['negative', 'positive']\n",
    "C = confusion_matrix(y_test,y_predict) \n",
    "C = C / C.astype(np.float).sum(axis=1)*100\n",
    "sns.heatmap(C, annot=True, fmt=\".2f\",cmap=\"GnBu\",xticklabels=target_names, yticklabels=target_names)\n",
    "plt.ylabel(\"True Label\")\n",
    "plt.xlabel(\"Predicted Label\")\n",
    "plt.show()"
   ]
  },
  {
   "cell_type": "code",
   "execution_count": 37,
   "metadata": {
    "execution": {
     "iopub.execute_input": "2020-08-27T06:29:32.257222Z",
     "iopub.status.busy": "2020-08-27T06:29:32.256253Z",
     "iopub.status.idle": "2020-08-27T06:29:32.266581Z",
     "shell.execute_reply": "2020-08-27T06:29:32.267230Z"
    },
    "papermill": {
     "duration": 0.046869,
     "end_time": "2020-08-27T06:29:32.267440",
     "exception": false,
     "start_time": "2020-08-27T06:29:32.220571",
     "status": "completed"
    },
    "tags": []
   },
   "outputs": [
    {
     "name": "stdout",
     "output_type": "stream",
     "text": [
      "              precision    recall  f1-score   support\n",
      "\n",
      "    negative       0.85      0.94      0.89       258\n",
      "    positive       0.41      0.21      0.28        53\n",
      "\n",
      "    accuracy                           0.81       311\n",
      "   macro avg       0.63      0.57      0.58       311\n",
      "weighted avg       0.78      0.81      0.79       311\n",
      "\n"
     ]
    }
   ],
   "source": [
    "print(classification_report(y_test, y_predict, target_names=target_names))"
   ]
  },
  {
   "cell_type": "code",
   "execution_count": 38,
   "metadata": {
    "execution": {
     "iopub.execute_input": "2020-08-27T06:29:32.339932Z",
     "iopub.status.busy": "2020-08-27T06:29:32.339372Z",
     "iopub.status.idle": "2020-08-27T06:33:52.658203Z",
     "shell.execute_reply": "2020-08-27T06:33:52.658708Z"
    },
    "papermill": {
     "duration": 260.359654,
     "end_time": "2020-08-27T06:33:52.658859",
     "exception": false,
     "start_time": "2020-08-27T06:29:32.299205",
     "status": "completed"
    },
    "tags": []
   },
   "outputs": [
    {
     "name": "stdout",
     "output_type": "stream",
     "text": [
      "Best params : {'colsample_bytree': 0.8, 'learning_rate': 0.1, 'max_depth': 8, 'n_estimators': 50, 'subsample': 0.5}\n",
      "10CV accuracy : 84.4883870967742\n"
     ]
    }
   ],
   "source": [
    "#!pip install xgboost  // If you dont have XGBoost\n",
    "import xgboost as xgb\n",
    "from sklearn.model_selection import GridSearchCV\n",
    "params = {\n",
    "    'n_estimators' : [10,50,100,200],\n",
    "    'max_depth' : [2, 4, 8],\n",
    "    'learning_rate' : [0.001, 0.01, 0.1],\n",
    "    'subsample' : [0.5,0.8, 1],\n",
    "    'colsample_bytree' : [0.5, 0.8, 1]    \n",
    "}\n",
    "clf = GridSearchCV(xgb.XGBClassifier(random_state=0, objective='binary:logistic',n_jobs=-1),params, cv = 10)\n",
    "clf.fit(X_train_norm, y_train)\n",
    "print(\"Best params : \" + str(clf.best_params_))\n",
    "print(\"10CV accuracy : \"+str(clf.best_score_*100))"
   ]
  },
  {
   "cell_type": "code",
   "execution_count": 39,
   "metadata": {
    "execution": {
     "iopub.execute_input": "2020-08-27T06:33:52.759409Z",
     "iopub.status.busy": "2020-08-27T06:33:52.753154Z",
     "iopub.status.idle": "2020-08-27T06:33:52.771400Z",
     "shell.execute_reply": "2020-08-27T06:33:52.772144Z"
    },
    "papermill": {
     "duration": 0.077905,
     "end_time": "2020-08-27T06:33:52.772342",
     "exception": false,
     "start_time": "2020-08-27T06:33:52.694437",
     "status": "completed"
    },
    "tags": []
   },
   "outputs": [
    {
     "data": {
      "text/plain": [
       "0.8231511254019293"
      ]
     },
     "execution_count": 39,
     "metadata": {},
     "output_type": "execute_result"
    }
   ],
   "source": [
    "from sklearn.metrics import classification_report\n",
    "from sklearn.metrics import confusion_matrix\n",
    "y_predict = clf.predict(X_test_norm)\n",
    "target_names = ['negative', 'positive']\n",
    "sum(y_test == y_predict)/len(y_test)"
   ]
  },
  {
   "cell_type": "code",
   "execution_count": 40,
   "metadata": {
    "execution": {
     "iopub.execute_input": "2020-08-27T06:33:52.898894Z",
     "iopub.status.busy": "2020-08-27T06:33:52.897965Z",
     "iopub.status.idle": "2020-08-27T06:33:53.104407Z",
     "shell.execute_reply": "2020-08-27T06:33:53.103903Z"
    },
    "papermill": {
     "duration": 0.270303,
     "end_time": "2020-08-27T06:33:53.104515",
     "exception": false,
     "start_time": "2020-08-27T06:33:52.834212",
     "status": "completed"
    },
    "tags": []
   },
   "outputs": [
    {
     "data": {
      "image/png": "[encoded data removed]",
      "text/plain": [
       "<Figure size 432x288 with 2 Axes>"
      ]
     },
     "metadata": {
      "needs_background": "light"
     },
     "output_type": "display_data"
    }
   ],
   "source": [
    "from sklearn.metrics import confusion_matrix\n",
    "import matplotlib.pyplot as plt\n",
    "import seaborn as sns\n",
    "target_names = ['negative', 'positive']\n",
    "C = confusion_matrix(y_test,y_predict) \n",
    "C = C / C.astype(np.float).sum(axis=1)*100\n",
    "sns.heatmap(C, annot=True, fmt=\".2f\",cmap=\"GnBu\",xticklabels=target_names, yticklabels=target_names)\n",
    "plt.ylabel(\"True Label\")\n",
    "plt.xlabel(\"Predicted Label\")\n",
    "plt.show()"
   ]
  },
  {
   "cell_type": "code",
   "execution_count": 41,
   "metadata": {
    "execution": {
     "iopub.execute_input": "2020-08-27T06:33:53.179593Z",
     "iopub.status.busy": "2020-08-27T06:33:53.178697Z",
     "iopub.status.idle": "2020-08-27T06:33:53.188280Z",
     "shell.execute_reply": "2020-08-27T06:33:53.187805Z"
    },
    "papermill": {
     "duration": 0.048424,
     "end_time": "2020-08-27T06:33:53.188417",
     "exception": false,
     "start_time": "2020-08-27T06:33:53.139993",
     "status": "completed"
    },
    "tags": []
   },
   "outputs": [
    {
     "name": "stdout",
     "output_type": "stream",
     "text": [
      "              precision    recall  f1-score   support\n",
      "\n",
      "    negative       0.86      0.93      0.90       258\n",
      "    positive       0.47      0.28      0.35        53\n",
      "\n",
      "    accuracy                           0.82       311\n",
      "   macro avg       0.67      0.61      0.63       311\n",
      "weighted avg       0.80      0.82      0.80       311\n",
      "\n"
     ]
    }
   ],
   "source": [
    "print(classification_report(y_test, y_predict, target_names=target_names))"
   ]
  }
 ],
 "metadata": {
  "kernelspec": {
   "display_name": "Python 3",
   "language": "python",
   "name": "python3"
  },
  "language_info": {
   "codemirror_mode": {
    "name": "ipython",
    "version": 3
   },
   "file_extension": ".py",
   "mimetype": "text/x-python",
   "name": "python",
   "nbconvert_exporter": "python",
   "pygments_lexer": "ipython3",
   "version": "3.7.6"
  },
  "papermill": {
   "duration": 1351.263313,
   "end_time": "2020-08-27T06:33:53.330635",
   "environment_variables": {},
   "exception": null,
   "input_path": "__notebook__.ipynb",
   "output_path": "__notebook__.ipynb",
   "parameters": {},
   "start_time": "2020-08-27T06:11:22.067322",
   "version": "2.1.0"
  }
 },
 "nbformat": 4,
 "nbformat_minor": 4
}
